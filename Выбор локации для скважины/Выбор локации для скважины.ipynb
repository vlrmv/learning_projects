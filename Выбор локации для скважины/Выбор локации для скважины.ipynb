{
 "cells": [
  {
   "cell_type": "markdown",
   "metadata": {},
   "source": [
    "# Выбор локации для скважины"
   ]
  },
  {
   "cell_type": "markdown",
   "metadata": {},
   "source": [
    "Цель проекта: Нужно решить, где бурить новую скважину.\n",
    "\n",
    "Шаги для выбора локации:\n",
    "\n",
    "- В избранном регионе ищут месторождения, для каждого определяют значения признаков;\n",
    "- Строят модель и оценивают объём запасов;\n",
    "- Выбирают месторождения с самым высокими оценками значений. Количество месторождений зависит от бюджета компании и стоимости разработки одной скважины;\n",
    "- Прибыль равна суммарной прибыли отобранных месторождений.\n",
    "\n",
    "Предоставлены пробы нефти в трёх регионах: в каждом 10 000 месторождений, где измерили качество нефти и объём её запасов. \n",
    "\n",
    "***\n",
    " Задача: построить модель машинного обучения, которая поможет определить регион, где добыча принесёт наибольшую прибыль. Проанализировать возможную прибыль и риски техникой *Bootstrap.*\n",
    "\n",
    "Условия задачи:\n",
    " - Для обучения модели подходит только линейная регрессия (остальные — недостаточно предсказуемые).\n",
    " - При разведке региона исследуют 500 точек, из которых с помощью машинного обучения выбирают 200 лучших для разработки.\n",
    " - Бюджет на разработку скважин в регионе — 10 млрд рублей.\n",
    " - При нынешних ценах один баррель сырья приносит 450 рублей дохода. Доход с каждой единицы продукта составляет 450 тыс. рублей, поскольку объём указан в тысячах баррелей.\n",
    " - После оценки рисков нужно оставить лишь те регионы, в которых вероятность убытков меньше 2.5%. Среди них выбирают регион с наибольшей средней прибылью.\n",
    "\n",
    "Описание данных:\n",
    "\n",
    "`id` — уникальный идентификатор скважины;\n",
    "`f0`, `f1`, `f2` — три признака точек (неважно, что они означают, но сами признаки значимы);\n",
    "`product` — объём запасов в скважине (тыс. баррелей)."
   ]
  },
  {
   "cell_type": "markdown",
   "metadata": {},
   "source": [
    "## Загрузка и подготовка данных"
   ]
  },
  {
   "cell_type": "markdown",
   "metadata": {},
   "source": [
    "Начнем с импорта всего необходимого, функций и данных:"
   ]
  },
  {
   "cell_type": "code",
   "execution_count": 1,
   "metadata": {},
   "outputs": [],
   "source": [
    "# импорт функций\n",
    "\n",
    "import pandas as pd\n",
    "import numpy as np\n",
    "\n",
    "from sklearn.model_selection import train_test_split\n",
    "from sklearn.preprocessing import StandardScaler\n",
    "from sklearn.linear_model import LinearRegression\n",
    "from sklearn.metrics import mean_squared_error\n",
    "\n"
   ]
  },
  {
   "cell_type": "code",
   "execution_count": 2,
   "metadata": {},
   "outputs": [
    {
     "name": "stdout",
     "output_type": "stream",
     "text": [
      "<class 'pandas.core.frame.DataFrame'>\n",
      "RangeIndex: 100000 entries, 0 to 99999\n",
      "Data columns (total 5 columns):\n",
      " #   Column   Non-Null Count   Dtype  \n",
      "---  ------   --------------   -----  \n",
      " 0   id       100000 non-null  object \n",
      " 1   f0       100000 non-null  float64\n",
      " 2   f1       100000 non-null  float64\n",
      " 3   f2       100000 non-null  float64\n",
      " 4   product  100000 non-null  float64\n",
      "dtypes: float64(4), object(1)\n",
      "memory usage: 3.8+ MB\n",
      "None\n",
      "<class 'pandas.core.frame.DataFrame'>\n",
      "RangeIndex: 100000 entries, 0 to 99999\n",
      "Data columns (total 5 columns):\n",
      " #   Column   Non-Null Count   Dtype  \n",
      "---  ------   --------------   -----  \n",
      " 0   id       100000 non-null  object \n",
      " 1   f0       100000 non-null  float64\n",
      " 2   f1       100000 non-null  float64\n",
      " 3   f2       100000 non-null  float64\n",
      " 4   product  100000 non-null  float64\n",
      "dtypes: float64(4), object(1)\n",
      "memory usage: 3.8+ MB\n",
      "None\n",
      "<class 'pandas.core.frame.DataFrame'>\n",
      "RangeIndex: 100000 entries, 0 to 99999\n",
      "Data columns (total 5 columns):\n",
      " #   Column   Non-Null Count   Dtype  \n",
      "---  ------   --------------   -----  \n",
      " 0   id       100000 non-null  object \n",
      " 1   f0       100000 non-null  float64\n",
      " 2   f1       100000 non-null  float64\n",
      " 3   f2       100000 non-null  float64\n",
      " 4   product  100000 non-null  float64\n",
      "dtypes: float64(4), object(1)\n",
      "memory usage: 3.8+ MB\n"
     ]
    }
   ],
   "source": [
    "# импорт данных\n",
    "\n",
    "df1 = pd.read_csv('geo_data_0.csv')\n",
    "df2 = pd.read_csv('geo_data_1.csv')\n",
    "df3 = pd.read_csv('geo_data_2.csv')\n",
    "\n",
    "print(df1.info())\n",
    "print(df2.info())\n",
    "df3.info()"
   ]
  },
  {
   "cell_type": "markdown",
   "metadata": {},
   "source": [
    "Делать предобработку данных нам не потребуется, но избавимся от стаолбца 'id' - в проекте он на не понадобится совсем. Стандартизацию численных признаков сделаем чуть позже."
   ]
  },
  {
   "cell_type": "code",
   "execution_count": 3,
   "metadata": {},
   "outputs": [],
   "source": [
    "df1 = df1.drop('id', axis=1)\n",
    "df2 = df2.drop('id', axis=1)\n",
    "df3 = df3.drop('id', axis=1)"
   ]
  },
  {
   "cell_type": "markdown",
   "metadata": {},
   "source": [
    "Данные готовы, приступим к основной части проекта"
   ]
  },
  {
   "cell_type": "markdown",
   "metadata": {},
   "source": [
    "## Обучение и проверка модели"
   ]
  },
  {
   "cell_type": "markdown",
   "metadata": {},
   "source": [
    "Построим модели для каждого региона, предсказывающие объем запасов на новых скважинах.\n",
    "Для нашей задачи подойдет линейная регрессия, с ней и будем работать.\n",
    "\n",
    " Для удобства создадим функцию построения модели:"
   ]
  },
  {
   "cell_type": "code",
   "execution_count": 4,
   "metadata": {},
   "outputs": [],
   "source": [
    "# creating df names\n",
    "\n",
    "df1.name = 'Регион 1'\n",
    "df2.name = 'Регион 2'\n",
    "df3.name = 'Регион 3'"
   ]
  },
  {
   "cell_type": "code",
   "execution_count": 5,
   "metadata": {},
   "outputs": [],
   "source": [
    "# функция создания модели для региона\n",
    "\n",
    "def split_and_train(df):\n",
    "    results = []\n",
    "    \n",
    "    # ftf split\n",
    "    features = df.drop('product', axis=1)\n",
    "    target = df['product']\n",
    "    \n",
    "    features_train, features_valid, target_train, target_valid = train_test_split(features, target, test_size=0.25, random_state=12345)\n",
    "    \n",
    "    # стандартизация численных признаков\n",
    "    scaler = StandardScaler()\n",
    "    scaler.fit(features_train)\n",
    "\n",
    "    features_train = scaler.transform(features_train)\n",
    "    features_valid = scaler.transform(features_valid)\n",
    "\n",
    "    # train\n",
    "    model = LinearRegression()\n",
    "    model.fit(features_train, target_train)\n",
    "    \n",
    "    predictions_valid = model.predict(features_valid)  \n",
    "    \n",
    "    rmse = mean_squared_error(target_valid, predictions_valid) ** 0.5\n",
    "    \n",
    "    mean_reserve = sum(predictions_valid) / len(predictions_valid)\n",
    "           \n",
    "    print(df.name)\n",
    "    print('Средний запас предсказанного сырья:', mean_reserve, 'RMSE модели:', rmse)\n",
    "    print('____________________________________________________________________________________')\n",
    "    \n",
    "    return predictions_valid, target_valid, rmse"
   ]
  },
  {
   "cell_type": "code",
   "execution_count": 6,
   "metadata": {},
   "outputs": [
    {
     "name": "stdout",
     "output_type": "stream",
     "text": [
      "Регион 1\n",
      "Средний запас предсказанного сырья: 92.59256778438008 RMSE модели: 37.5794217150813\n",
      "____________________________________________________________________________________\n",
      "Регион 2\n",
      "Средний запас предсказанного сырья: 68.72854689544579 RMSE модели: 0.8930992867756167\n",
      "____________________________________________________________________________________\n",
      "Регион 3\n",
      "Средний запас предсказанного сырья: 94.96504596800506 RMSE модели: 40.02970873393434\n",
      "____________________________________________________________________________________\n"
     ]
    }
   ],
   "source": [
    "predictions_valid1, target_valid1, rmse1 = split_and_train(df1)\n",
    "predictions_valid2, target_valid2, rmse2 = split_and_train(df2)\n",
    "predictions_valid3, target_valid3, rmse3 = split_and_train(df3)\n"
   ]
  },
  {
   "cell_type": "markdown",
   "metadata": {},
   "source": [
    "Самая точная модель получилась у второго региона, но там же предсказан самый маленький объем запасов"
   ]
  },
  {
   "cell_type": "markdown",
   "metadata": {},
   "source": [
    "## Подготовка к расчёту прибыли"
   ]
  },
  {
   "cell_type": "code",
   "execution_count": 7,
   "metadata": {},
   "outputs": [],
   "source": [
    "# запишем константы\n",
    "\n",
    "price_per_1000barrel = 450_000\n",
    "development_budget = 10_000_000_000\n",
    "n_points = 200"
   ]
  },
  {
   "cell_type": "markdown",
   "metadata": {},
   "source": [
    "Рассчитаем достаточный объём сырья для безубыточной разработки новой скважины:"
   ]
  },
  {
   "cell_type": "code",
   "execution_count": 8,
   "metadata": {},
   "outputs": [
    {
     "data": {
      "text/plain": [
       "111.11111111111111"
      ]
     },
     "execution_count": 8,
     "metadata": {},
     "output_type": "execute_result"
    }
   ],
   "source": [
    "primary_reserve = development_budget / price_per_1000barrel / n_points\n",
    "primary_reserve"
   ]
  },
  {
   "cell_type": "markdown",
   "metadata": {},
   "source": [
    "Значения средних запасов, которые мы предсказали в предыдущем шаге ниже требуемого объема\n",
    "***\n",
    "Создадим функцию для расчета прибыли:"
   ]
  },
  {
   "cell_type": "code",
   "execution_count": 9,
   "metadata": {},
   "outputs": [
    {
     "data": {
      "text/plain": [
       "3320826043.1398506"
      ]
     },
     "execution_count": 9,
     "metadata": {},
     "output_type": "execute_result"
    }
   ],
   "source": [
    "# создание функции\n",
    "\n",
    "def evaluating_revenue(predictions, target):\n",
    "    x = pd.Series(predictions, index=target.index)\n",
    "    top_200 = x.sort_values(ascending=False)[:200]\n",
    "    revenue = (target[top_200.index] * price_per_1000barrel).sum() - development_budget\n",
    "    return revenue\n",
    "\n",
    "# проверка\n",
    "evaluating_revenue(predictions_valid1, target_valid1)\n",
    "   "
   ]
  },
  {
   "cell_type": "markdown",
   "metadata": {},
   "source": [
    "## Расчёт прибыли и рисков "
   ]
  },
  {
   "cell_type": "markdown",
   "metadata": {
    "collapsed": true
   },
   "source": [
    "Посчитаем риски и прибыль для каждого региона:\n",
    "\n",
    " Применим технику Bootstrap с 1000 выборок, чтобы найти распределение прибыли, снова, чтобы не повторять код, создадим функцию:"
   ]
  },
  {
   "cell_type": "code",
   "execution_count": 10,
   "metadata": {},
   "outputs": [],
   "source": [
    "state = np.random.RandomState(12345)"
   ]
  },
  {
   "cell_type": "code",
   "execution_count": 11,
   "metadata": {},
   "outputs": [],
   "source": [
    "\n",
    "def bootstrap_mean_rev(target, predictions, region):\n",
    "    revenues= []\n",
    "    \n",
    "    target_boot = target.reset_index(drop=True)\n",
    "    for i in range(1000):\n",
    "        sub_target = target_boot.sample(n=500, replace=True, random_state=state)\n",
    "        sub_predictions = predictions[sub_target.index]\n",
    "        revenue = evaluating_revenue(sub_predictions, sub_target)\n",
    "        revenues.append(revenue)\n",
    "        \n",
    "    revenues = pd.Series(revenues)\n",
    "    mean_revenue = sum(revenues) / len(revenues)\n",
    "    low_border = revenues.quantile(0.025)\n",
    "    upper_border = revenues.quantile(0.975)\n",
    "    loss_possibility = revenues[revenues<0].count() / len(revenues) * 100\n",
    "\n",
    "    print('Регион', region)\n",
    "    print('Средняя прибыль:', mean_revenue)\n",
    "    print('Доверительный интервал:', low_border, '-', upper_border)\n",
    "    print('Вероятность убытков:', loss_possibility)\n",
    "    print(\"----------------------------------------------------------------\")\n",
    "\n"
   ]
  },
  {
   "cell_type": "markdown",
   "metadata": {},
   "source": [
    "Теперь непосредственно рассчитаем прибыль и риски убытков для каждого региона:"
   ]
  },
  {
   "cell_type": "code",
   "execution_count": 12,
   "metadata": {
    "scrolled": true
   },
   "outputs": [
    {
     "name": "stdout",
     "output_type": "stream",
     "text": [
      "Регион 1\n",
      "Средняя прибыль: 600735244.2611656\n",
      "Доверительный интервал: 12948331.135115195 - 1231163605.791502\n",
      "Вероятность убытков: 2.0\n",
      "----------------------------------------------------------------\n",
      "Регион 2\n",
      "Средняя прибыль: 663958995.2601925\n",
      "Доверительный интервал: 206476361.25177097 - 1191197684.7488472\n",
      "Вероятность убытков: 0.1\n",
      "----------------------------------------------------------------\n",
      "Регион 3\n",
      "Средняя прибыль: 597381047.9005232\n",
      "Доверительный интервал: 1734929.5311780055 - 1246217960.1652355\n",
      "Вероятность убытков: 2.5\n",
      "----------------------------------------------------------------\n"
     ]
    }
   ],
   "source": [
    "bootstrap_mean_rev(target_valid1, predictions_valid1, 1)\n",
    "bootstrap_mean_rev(target_valid2, predictions_valid2, 2)\n",
    "bootstrap_mean_rev(target_valid3, predictions_valid3, 3)"
   ]
  },
  {
   "cell_type": "markdown",
   "metadata": {},
   "source": [
    "Оновная задача этого проекта - предложить регион для разработки новых скважен. \n",
    "\n",
    " И, кажется, что лучшим решением из трех предложенных регионов - второй: у него самая низкая вероятность рисков, да и самые высокие значения предстказаний средней прибыли."
   ]
  }
 ],
 "metadata": {
  "kernelspec": {
   "display_name": "Python 3",
   "language": "python",
   "name": "python3"
  },
  "language_info": {
   "codemirror_mode": {
    "name": "ipython",
    "version": 3
   },
   "file_extension": ".py",
   "mimetype": "text/x-python",
   "name": "python",
   "nbconvert_exporter": "python",
   "pygments_lexer": "ipython3",
   "version": "3.8.8"
  },
  "toc": {
   "base_numbering": 1,
   "nav_menu": {},
   "number_sections": true,
   "sideBar": true,
   "skip_h1_title": true,
   "title_cell": "Table of Contents",
   "title_sidebar": "Contents",
   "toc_cell": false,
   "toc_position": {},
   "toc_section_display": true,
   "toc_window_display": false
  }
 },
 "nbformat": 4,
 "nbformat_minor": 2
}
